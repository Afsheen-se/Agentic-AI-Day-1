{
 "cells": [
  {
   "cell_type": "code",
   "execution_count": 36,
   "id": "fd29538d",
   "metadata": {},
   "outputs": [
    {
     "name": "stderr",
     "output_type": "stream",
     "text": [
      "[nltk_data] Downloading package stopwords to\n",
      "[nltk_data]     C:\\Users\\HP\\AppData\\Roaming\\nltk_data...\n",
      "[nltk_data]   Package stopwords is already up-to-date!\n",
      "[nltk_data] Downloading package punkt to\n",
      "[nltk_data]     C:\\Users\\HP\\AppData\\Roaming\\nltk_data...\n",
      "[nltk_data]   Package punkt is already up-to-date!\n",
      "[nltk_data] Downloading package punkt_tab to\n",
      "[nltk_data]     C:\\Users\\HP\\AppData\\Roaming\\nltk_data...\n",
      "[nltk_data]   Package punkt_tab is already up-to-date!\n"
     ]
    },
    {
     "data": {
      "text/plain": [
       "True"
      ]
     },
     "execution_count": 36,
     "metadata": {},
     "output_type": "execute_result"
    }
   ],
   "source": [
    "import nltk\n",
    "nltk.download('stopwords')\n",
    "nltk.download('punkt')\n",
    "nltk.download('punkt_tab')\n"
   ]
  },
  {
   "cell_type": "code",
   "execution_count": 37,
   "id": "58c867e7",
   "metadata": {},
   "outputs": [],
   "source": [
    "import pandas as pd\n",
    "import re #for regular expressions \n",
    "from nltk.corpus import stopwords\n",
    "from nltk.tokenize import word_tokenize"
   ]
  },
  {
   "cell_type": "code",
   "execution_count": 38,
   "id": "802e4ded",
   "metadata": {},
   "outputs": [
    {
     "name": "stdout",
     "output_type": "stream",
     "text": [
      "\u001b[38;5;2m✔ Download and installation successful\u001b[0m\n",
      "You can now load the package via spacy.load('en_core_web_sm')\n",
      "\u001b[38;5;3m⚠ Restart to reload dependencies\u001b[0m\n",
      "If you are in a Jupyter or Colab notebook, you may need to restart Python in\n",
      "order to load all the package's dependencies. You can do this by selecting the\n",
      "'Restart kernel' or 'Restart runtime' option.\n"
     ]
    }
   ],
   "source": [
    "#load the small english model for spacy\n",
    "import spacy \n",
    "spacy.cli.download(\"en_core_web_sm\")\n",
    "nlp = spacy.load(\"en_core_web_sm\")"
   ]
  },
  {
   "cell_type": "code",
   "execution_count": 39,
   "id": "fbdd00bb",
   "metadata": {},
   "outputs": [
    {
     "name": "stdout",
     "output_type": "stream",
     "text": [
      "First 5 rows of the dataset:\n"
     ]
    },
    {
     "data": {
      "text/html": [
       "<div>\n",
       "<style scoped>\n",
       "    .dataframe tbody tr th:only-of-type {\n",
       "        vertical-align: middle;\n",
       "    }\n",
       "\n",
       "    .dataframe tbody tr th {\n",
       "        vertical-align: top;\n",
       "    }\n",
       "\n",
       "    .dataframe thead th {\n",
       "        text-align: right;\n",
       "    }\n",
       "</style>\n",
       "<table border=\"1\" class=\"dataframe\">\n",
       "  <thead>\n",
       "    <tr style=\"text-align: right;\">\n",
       "      <th></th>\n",
       "      <th>review</th>\n",
       "      <th>sentiment</th>\n",
       "    </tr>\n",
       "  </thead>\n",
       "  <tbody>\n",
       "    <tr>\n",
       "      <th>0</th>\n",
       "      <td>One of the other reviewers has mentioned that after watching just 1 Oz episode you'll be hooked. They are right, as this is exactly what happened with me.&lt;br /&gt;&lt;br /&gt;The first thing that struck me about Oz was its brutality and unflinching scenes of violence, which set in right from the word GO. Trust me, this is not a show for the faint hearted or timid. This show pulls no punches with regards to drugs, sex or violence. Its is hardcore, in the classic use of the word.&lt;br /&gt;&lt;br /&gt;It is called OZ as that is the nickname given to the Oswald Maximum Security State Penitentary. It focuses mainly on Emerald City, an experimental section of the prison where all the cells have glass fronts and face inwards, so privacy is not high on the agenda. Em City is home to many..Aryans, Muslims, gangstas, Latinos, Christians, Italians, Irish and more....so scuffles, death stares, dodgy dealings and shady agreements are never far away.&lt;br /&gt;&lt;br /&gt;I would say the main appeal of the show is due to the fact that it goes where other shows wouldn't dare. Forget pretty pictures painted for mainstream audiences, forget charm, forget romance...OZ doesn't mess around. The first episode I ever saw struck me as so nasty it was surreal, I couldn't say I was ready for it, but as I watched more, I developed a taste for Oz, and got accustomed to the high levels of graphic violence. Not just violence, but injustice (crooked guards who'll be sold out for a nickel, inmates who'll kill on order and get away with it, well mannered, middle class inmates being turned into prison bitches due to their lack of street skills or prison experience) Watching Oz, you may become comfortable with what is uncomfortable viewing....thats if you can get in touch with your darker side.</td>\n",
       "      <td>positive</td>\n",
       "    </tr>\n",
       "    <tr>\n",
       "      <th>1</th>\n",
       "      <td>A wonderful little production. &lt;br /&gt;&lt;br /&gt;The filming technique is very unassuming- very old-time-BBC fashion and gives a comforting, and sometimes discomforting, sense of realism to the entire piece. &lt;br /&gt;&lt;br /&gt;The actors are extremely well chosen- Michael Sheen not only \"has got all the polari\" but he has all the voices down pat too! You can truly see the seamless editing guided by the references to Williams' diary entries, not only is it well worth the watching but it is a terrificly written and performed piece. A masterful production about one of the great master's of comedy and his life. &lt;br /&gt;&lt;br /&gt;The realism really comes home with the little things: the fantasy of the guard which, rather than use the traditional 'dream' techniques remains solid then disappears. It plays on our knowledge and our senses, particularly with the scenes concerning Orton and Halliwell and the sets (particularly of their flat with Halliwell's murals decorating every surface) are terribly well done.</td>\n",
       "      <td>positive</td>\n",
       "    </tr>\n",
       "    <tr>\n",
       "      <th>2</th>\n",
       "      <td>I thought this was a wonderful way to spend time on a too hot summer weekend, sitting in the air conditioned theater and watching a light-hearted comedy. The plot is simplistic, but the dialogue is witty and the characters are likable (even the well bread suspected serial killer). While some may be disappointed when they realize this is not Match Point 2: Risk Addiction, I thought it was proof that Woody Allen is still fully in control of the style many of us have grown to love.&lt;br /&gt;&lt;br /&gt;This was the most I'd laughed at one of Woody's comedies in years (dare I say a decade?). While I've never been impressed with Scarlet Johanson, in this she managed to tone down her \"sexy\" image and jumped right into a average, but spirited young woman.&lt;br /&gt;&lt;br /&gt;This may not be the crown jewel of his career, but it was wittier than \"Devil Wears Prada\" and more interesting than \"Superman\" a great comedy to go see with friends.</td>\n",
       "      <td>positive</td>\n",
       "    </tr>\n",
       "    <tr>\n",
       "      <th>3</th>\n",
       "      <td>Basically there's a family where a little boy (Jake) thinks there's a zombie in his closet &amp; his parents are fighting all the time.&lt;br /&gt;&lt;br /&gt;This movie is slower than a soap opera... and suddenly, Jake decides to become Rambo and kill the zombie.&lt;br /&gt;&lt;br /&gt;OK, first of all when you're going to make a film you must Decide if its a thriller or a drama! As a drama the movie is watchable. Parents are divorcing &amp; arguing like in real life. And then we have Jake with his closet which totally ruins all the film! I expected to see a BOOGEYMAN similar movie, and instead i watched a drama with some meaningless thriller spots.&lt;br /&gt;&lt;br /&gt;3 out of 10 just for the well playing parents &amp; descent dialogs. As for the shots with Jake: just ignore them.</td>\n",
       "      <td>negative</td>\n",
       "    </tr>\n",
       "    <tr>\n",
       "      <th>4</th>\n",
       "      <td>Petter Mattei's \"Love in the Time of Money\" is a visually stunning film to watch. Mr. Mattei offers us a vivid portrait about human relations. This is a movie that seems to be telling us what money, power and success do to people in the different situations we encounter. &lt;br /&gt;&lt;br /&gt;This being a variation on the Arthur Schnitzler's play about the same theme, the director transfers the action to the present time New York where all these different characters meet and connect. Each one is connected in one way, or another to the next person, but no one seems to know the previous point of contact. Stylishly, the film has a sophisticated luxurious look. We are taken to see how these people live and the world they live in their own habitat.&lt;br /&gt;&lt;br /&gt;The only thing one gets out of all these souls in the picture is the different stages of loneliness each one inhabits. A big city is not exactly the best place in which human relations find sincere fulfillment, as one discerns is the case with most of the people we encounter.&lt;br /&gt;&lt;br /&gt;The acting is good under Mr. Mattei's direction. Steve Buscemi, Rosario Dawson, Carol Kane, Michael Imperioli, Adrian Grenier, and the rest of the talented cast, make these characters come alive.&lt;br /&gt;&lt;br /&gt;We wish Mr. Mattei good luck and await anxiously for his next work.</td>\n",
       "      <td>positive</td>\n",
       "    </tr>\n",
       "  </tbody>\n",
       "</table>\n",
       "</div>"
      ],
      "text/plain": [
       "                                                                                                                                                                                                                                                                                                                                                                                                                                                                                                                                                                                                                                                                                                                                                                                                                                                                                                                                                                                                                                                                                                                                                                                                                                                                                                                                                                                                                                                                                                                                                                                                                                                                                                                                                                                                                              review  \\\n",
       "0  One of the other reviewers has mentioned that after watching just 1 Oz episode you'll be hooked. They are right, as this is exactly what happened with me.<br /><br />The first thing that struck me about Oz was its brutality and unflinching scenes of violence, which set in right from the word GO. Trust me, this is not a show for the faint hearted or timid. This show pulls no punches with regards to drugs, sex or violence. Its is hardcore, in the classic use of the word.<br /><br />It is called OZ as that is the nickname given to the Oswald Maximum Security State Penitentary. It focuses mainly on Emerald City, an experimental section of the prison where all the cells have glass fronts and face inwards, so privacy is not high on the agenda. Em City is home to many..Aryans, Muslims, gangstas, Latinos, Christians, Italians, Irish and more....so scuffles, death stares, dodgy dealings and shady agreements are never far away.<br /><br />I would say the main appeal of the show is due to the fact that it goes where other shows wouldn't dare. Forget pretty pictures painted for mainstream audiences, forget charm, forget romance...OZ doesn't mess around. The first episode I ever saw struck me as so nasty it was surreal, I couldn't say I was ready for it, but as I watched more, I developed a taste for Oz, and got accustomed to the high levels of graphic violence. Not just violence, but injustice (crooked guards who'll be sold out for a nickel, inmates who'll kill on order and get away with it, well mannered, middle class inmates being turned into prison bitches due to their lack of street skills or prison experience) Watching Oz, you may become comfortable with what is uncomfortable viewing....thats if you can get in touch with your darker side.   \n",
       "1                                                                                                                                                                                                                                                                                                                                                                                                                                                                                                                                                                                                                                                                                                                                                                                             A wonderful little production. <br /><br />The filming technique is very unassuming- very old-time-BBC fashion and gives a comforting, and sometimes discomforting, sense of realism to the entire piece. <br /><br />The actors are extremely well chosen- Michael Sheen not only \"has got all the polari\" but he has all the voices down pat too! You can truly see the seamless editing guided by the references to Williams' diary entries, not only is it well worth the watching but it is a terrificly written and performed piece. A masterful production about one of the great master's of comedy and his life. <br /><br />The realism really comes home with the little things: the fantasy of the guard which, rather than use the traditional 'dream' techniques remains solid then disappears. It plays on our knowledge and our senses, particularly with the scenes concerning Orton and Halliwell and the sets (particularly of their flat with Halliwell's murals decorating every surface) are terribly well done.   \n",
       "2                                                                                                                                                                                                                                                                                                                                                                                                                                                                                                                                                                                                                                                                                                                                                                                                                                                                     I thought this was a wonderful way to spend time on a too hot summer weekend, sitting in the air conditioned theater and watching a light-hearted comedy. The plot is simplistic, but the dialogue is witty and the characters are likable (even the well bread suspected serial killer). While some may be disappointed when they realize this is not Match Point 2: Risk Addiction, I thought it was proof that Woody Allen is still fully in control of the style many of us have grown to love.<br /><br />This was the most I'd laughed at one of Woody's comedies in years (dare I say a decade?). While I've never been impressed with Scarlet Johanson, in this she managed to tone down her \"sexy\" image and jumped right into a average, but spirited young woman.<br /><br />This may not be the crown jewel of his career, but it was wittier than \"Devil Wears Prada\" and more interesting than \"Superman\" a great comedy to go see with friends.   \n",
       "3                                                                                                                                                                                                                                                                                                                                                                                                                                                                                                                                                                                                                                                                                                                                                                                                                                                                                                                                                                                                                                                       Basically there's a family where a little boy (Jake) thinks there's a zombie in his closet & his parents are fighting all the time.<br /><br />This movie is slower than a soap opera... and suddenly, Jake decides to become Rambo and kill the zombie.<br /><br />OK, first of all when you're going to make a film you must Decide if its a thriller or a drama! As a drama the movie is watchable. Parents are divorcing & arguing like in real life. And then we have Jake with his closet which totally ruins all the film! I expected to see a BOOGEYMAN similar movie, and instead i watched a drama with some meaningless thriller spots.<br /><br />3 out of 10 just for the well playing parents & descent dialogs. As for the shots with Jake: just ignore them.   \n",
       "4                                                                                                                                                                                                                                                                                                                                                                                                                                                              Petter Mattei's \"Love in the Time of Money\" is a visually stunning film to watch. Mr. Mattei offers us a vivid portrait about human relations. This is a movie that seems to be telling us what money, power and success do to people in the different situations we encounter. <br /><br />This being a variation on the Arthur Schnitzler's play about the same theme, the director transfers the action to the present time New York where all these different characters meet and connect. Each one is connected in one way, or another to the next person, but no one seems to know the previous point of contact. Stylishly, the film has a sophisticated luxurious look. We are taken to see how these people live and the world they live in their own habitat.<br /><br />The only thing one gets out of all these souls in the picture is the different stages of loneliness each one inhabits. A big city is not exactly the best place in which human relations find sincere fulfillment, as one discerns is the case with most of the people we encounter.<br /><br />The acting is good under Mr. Mattei's direction. Steve Buscemi, Rosario Dawson, Carol Kane, Michael Imperioli, Adrian Grenier, and the rest of the talented cast, make these characters come alive.<br /><br />We wish Mr. Mattei good luck and await anxiously for his next work.   \n",
       "\n",
       "  sentiment  \n",
       "0  positive  \n",
       "1  positive  \n",
       "2  positive  \n",
       "3  negative  \n",
       "4  positive  "
      ]
     },
     "metadata": {},
     "output_type": "display_data"
    }
   ],
   "source": [
    "#set pandas to display full text for better inspection\n",
    "pd.set_option('display.max_colwidth', None)\n",
    "\n",
    "#load the dataset from the csv file \n",
    "\n",
    "try:\n",
    "    df=pd.read_csv('IMDb dataset movies.csv')\n",
    "except FileNotFoundError:\n",
    "     print(\"Errot: 'IMDb dataset movies.csv' not found. Make sure it's downloaded\")\n",
    "\n",
    "#Display the first 5 rows and some info\n",
    "\n",
    "print(\"First 5 rows of the dataset:\")\n",
    "display(df.head())"
   ]
  },
  {
   "cell_type": "code",
   "execution_count": 40,
   "id": "7d5ca7bf",
   "metadata": {},
   "outputs": [
    {
     "name": "stdout",
     "output_type": "stream",
     "text": [
      "\n",
      "Dataset information:\n",
      "<class 'pandas.core.frame.DataFrame'>\n",
      "RangeIndex: 50000 entries, 0 to 49999\n",
      "Data columns (total 2 columns):\n",
      " #   Column     Non-Null Count  Dtype \n",
      "---  ------     --------------  ----- \n",
      " 0   review     50000 non-null  object\n",
      " 1   sentiment  50000 non-null  object\n",
      "dtypes: object(2)\n",
      "memory usage: 781.4+ KB\n"
     ]
    }
   ],
   "source": [
    "print(\"\\nDataset information:\")\n",
    "df.info()"
   ]
  },
  {
   "cell_type": "code",
   "execution_count": 41,
   "id": "199b2fcd",
   "metadata": {},
   "outputs": [
    {
     "name": "stdout",
     "output_type": "stream",
     "text": [
      "\\Sentiment Distribution:\n",
      "sentiment\n",
      "positive    25000\n",
      "negative    25000\n",
      "Name: count, dtype: int64\n"
     ]
    },
    {
     "name": "stderr",
     "output_type": "stream",
     "text": [
      "<>:1: SyntaxWarning: invalid escape sequence '\\S'\n",
      "<>:1: SyntaxWarning: invalid escape sequence '\\S'\n",
      "C:\\Users\\HP\\AppData\\Local\\Temp\\ipykernel_4376\\1526411202.py:1: SyntaxWarning: invalid escape sequence '\\S'\n",
      "  print(\"\\Sentiment Distribution:\")\n"
     ]
    }
   ],
   "source": [
    "print(\"\\Sentiment Distribution:\")\n",
    "print(df['sentiment'].value_counts())"
   ]
  },
  {
   "cell_type": "code",
   "execution_count": 42,
   "id": "daa6ba06",
   "metadata": {},
   "outputs": [
    {
     "data": {
      "text/plain": [
       "{'a',\n",
       " 'about',\n",
       " 'above',\n",
       " 'after',\n",
       " 'again',\n",
       " 'against',\n",
       " 'ain',\n",
       " 'all',\n",
       " 'am',\n",
       " 'an',\n",
       " 'and',\n",
       " 'any',\n",
       " 'are',\n",
       " 'aren',\n",
       " \"aren't\",\n",
       " 'as',\n",
       " 'at',\n",
       " 'be',\n",
       " 'because',\n",
       " 'been',\n",
       " 'before',\n",
       " 'being',\n",
       " 'below',\n",
       " 'between',\n",
       " 'both',\n",
       " 'but',\n",
       " 'by',\n",
       " 'can',\n",
       " 'couldn',\n",
       " \"couldn't\",\n",
       " 'd',\n",
       " 'did',\n",
       " 'didn',\n",
       " \"didn't\",\n",
       " 'do',\n",
       " 'does',\n",
       " 'doesn',\n",
       " \"doesn't\",\n",
       " 'doing',\n",
       " 'don',\n",
       " \"don't\",\n",
       " 'down',\n",
       " 'during',\n",
       " 'each',\n",
       " 'few',\n",
       " 'for',\n",
       " 'from',\n",
       " 'further',\n",
       " 'had',\n",
       " 'hadn',\n",
       " \"hadn't\",\n",
       " 'has',\n",
       " 'hasn',\n",
       " \"hasn't\",\n",
       " 'have',\n",
       " 'haven',\n",
       " \"haven't\",\n",
       " 'having',\n",
       " 'he',\n",
       " \"he'd\",\n",
       " \"he'll\",\n",
       " \"he's\",\n",
       " 'her',\n",
       " 'here',\n",
       " 'hers',\n",
       " 'herself',\n",
       " 'him',\n",
       " 'himself',\n",
       " 'his',\n",
       " 'how',\n",
       " 'i',\n",
       " \"i'd\",\n",
       " \"i'll\",\n",
       " \"i'm\",\n",
       " \"i've\",\n",
       " 'if',\n",
       " 'in',\n",
       " 'into',\n",
       " 'is',\n",
       " 'isn',\n",
       " \"isn't\",\n",
       " 'it',\n",
       " \"it'd\",\n",
       " \"it'll\",\n",
       " \"it's\",\n",
       " 'its',\n",
       " 'itself',\n",
       " 'just',\n",
       " 'll',\n",
       " 'm',\n",
       " 'ma',\n",
       " 'me',\n",
       " 'mightn',\n",
       " \"mightn't\",\n",
       " 'more',\n",
       " 'most',\n",
       " 'mustn',\n",
       " \"mustn't\",\n",
       " 'my',\n",
       " 'myself',\n",
       " 'needn',\n",
       " \"needn't\",\n",
       " 'no',\n",
       " 'nor',\n",
       " 'not',\n",
       " 'now',\n",
       " 'o',\n",
       " 'of',\n",
       " 'off',\n",
       " 'on',\n",
       " 'once',\n",
       " 'only',\n",
       " 'or',\n",
       " 'other',\n",
       " 'our',\n",
       " 'ours',\n",
       " 'ourselves',\n",
       " 'out',\n",
       " 'over',\n",
       " 'own',\n",
       " 're',\n",
       " 's',\n",
       " 'same',\n",
       " 'shan',\n",
       " \"shan't\",\n",
       " 'she',\n",
       " \"she'd\",\n",
       " \"she'll\",\n",
       " \"she's\",\n",
       " 'should',\n",
       " \"should've\",\n",
       " 'shouldn',\n",
       " \"shouldn't\",\n",
       " 'so',\n",
       " 'some',\n",
       " 'such',\n",
       " 't',\n",
       " 'than',\n",
       " 'that',\n",
       " \"that'll\",\n",
       " 'the',\n",
       " 'their',\n",
       " 'theirs',\n",
       " 'them',\n",
       " 'themselves',\n",
       " 'then',\n",
       " 'there',\n",
       " 'these',\n",
       " 'they',\n",
       " \"they'd\",\n",
       " \"they'll\",\n",
       " \"they're\",\n",
       " \"they've\",\n",
       " 'this',\n",
       " 'those',\n",
       " 'through',\n",
       " 'to',\n",
       " 'too',\n",
       " 'under',\n",
       " 'until',\n",
       " 'up',\n",
       " 've',\n",
       " 'very',\n",
       " 'was',\n",
       " 'wasn',\n",
       " \"wasn't\",\n",
       " 'we',\n",
       " \"we'd\",\n",
       " \"we'll\",\n",
       " \"we're\",\n",
       " \"we've\",\n",
       " 'were',\n",
       " 'weren',\n",
       " \"weren't\",\n",
       " 'what',\n",
       " 'when',\n",
       " 'where',\n",
       " 'which',\n",
       " 'while',\n",
       " 'who',\n",
       " 'whom',\n",
       " 'why',\n",
       " 'will',\n",
       " 'with',\n",
       " 'won',\n",
       " \"won't\",\n",
       " 'wouldn',\n",
       " \"wouldn't\",\n",
       " 'y',\n",
       " 'you',\n",
       " \"you'd\",\n",
       " \"you'll\",\n",
       " \"you're\",\n",
       " \"you've\",\n",
       " 'your',\n",
       " 'yours',\n",
       " 'yourself',\n",
       " 'yourselves'}"
      ]
     },
     "execution_count": 42,
     "metadata": {},
     "output_type": "execute_result"
    }
   ],
   "source": [
    "stop_words = set(stopwords.words('english'))\n",
    "stop_words\n",
    "\n",
    "\n",
    "\n",
    "\n",
    "\n",
    "\n",
    "\n",
    "\n"
   ]
  },
  {
   "cell_type": "code",
   "execution_count": 43,
   "id": "7a7bdfd5",
   "metadata": {},
   "outputs": [],
   "source": [
    "def preprocess_text(text):\n",
    "    \"\"\"\n",
    "    Cleans and preprocesses a single text string.\n",
    "    1. Removes HTML tags\n",
    "    2. Lowercases text\n",
    "    3. Removes punctuation and numbers\n",
    "    4. Tokenizes text\n",
    "    5. Removes stop words\n",
    "    6. Lemmatizes words\n",
    "    \"\"\"\n",
    "    text = re.sub(r'<.*?>', '', text)\n",
    "    text = text.lower()\n",
    "    text = re.sub(r'[^a-z\\s]', '', text)\n",
    "    tokens = word_tokenize(text)\n",
    "    tokens = [word for word in tokens if word not in stop_words]\n",
    "    \n",
    "    # Lemmatization is often better than stemming\n",
    "    text = ' '.join(tokens)\n",
    "    doc = nlp(text)\n",
    "    lemmatized_tokens = [token.lemma_ for token in doc]\n",
    "    \n",
    "    return ' '.join(lemmatized_tokens)"
   ]
  },
  {
   "cell_type": "code",
   "execution_count": 44,
   "id": "96051d33",
   "metadata": {},
   "outputs": [
    {
     "name": "stdout",
     "output_type": "stream",
     "text": [
      "preprocessing all 50,000 reviews...(This may take a while)\n",
      "preprocessing complete\n",
      "\n",
      "comparing original vs cleaned reviews:\n"
     ]
    },
    {
     "data": {
      "text/html": [
       "<div>\n",
       "<style scoped>\n",
       "    .dataframe tbody tr th:only-of-type {\n",
       "        vertical-align: middle;\n",
       "    }\n",
       "\n",
       "    .dataframe tbody tr th {\n",
       "        vertical-align: top;\n",
       "    }\n",
       "\n",
       "    .dataframe thead th {\n",
       "        text-align: right;\n",
       "    }\n",
       "</style>\n",
       "<table border=\"1\" class=\"dataframe\">\n",
       "  <thead>\n",
       "    <tr style=\"text-align: right;\">\n",
       "      <th></th>\n",
       "      <th>review</th>\n",
       "      <th>cleaned_review</th>\n",
       "    </tr>\n",
       "  </thead>\n",
       "  <tbody>\n",
       "    <tr>\n",
       "      <th>47120</th>\n",
       "      <td>I had never read Gary Paulsen's novel, Hatchet, for which 'A Cry in the Wild' is the adaptation of, so I can't make any comparisons to the book. I will, however, say that as a film on its own, adaptation or no adaptation, it was an underdeveloped adventure that provides no major explanation of its few characters.&lt;br /&gt;&lt;br /&gt;Think of 'A Cry in the Wild' as a less luxurious, teenage mountaineer (was Quincy, California the only place this was filmed?) version of 'Cast Away.' Jared Rushton is 13-year-old Brian Roebson, a kid headed on a small plane to visit his father, until the craft crashes over some deserted mountain terrain, leaving the kid stranded for quite a while and having to defend himself.&lt;br /&gt;&lt;br /&gt;There are basically three parts to the film. The obvious being the ten or fifteen minute introduction of the characters, namely Brian and his mom. &lt;br /&gt;&lt;br /&gt;The next third of the movie (which really consumes nearly all of the film) is that of Brian \"roughing it.\" These scenes contain no particularly amazing action, nothing spectacular other than lots of beautiful cinematography of a beautiful Yukon landscape. Nothing to put you on edge, no real encounters (except a brisk confrontation with a cub), and no major dilemmas to initiate some sort of enjoyment or connection with the character on the screen. You might even feel briefly bored with the passage of time as we witness Brian dealing with his situation through first, primitive means, and then more improved ones (using tools, etc) for his survival. It is more like the ordinary time that passes if you were actually stuck in the situation, and that is pretty much about it. In other words, they put no meat on the Paulsen's words when they translated them into a visual media.&lt;br /&gt;&lt;br /&gt;And, of course, the third part of the movie is his rescue.&lt;br /&gt;&lt;br /&gt;There is a subplot that continuously seeks to make itself known during this time, however. Some conflict between Brian and his parents that created a rocky, awkward relationship between them. However, for the most part, it is only explained in brief, intermittent, minimal dialog flashbacks that look more like a back story for a music video. Any minute, the singer from Jefferson Starship, should chime in an start singing 'Sara.' Other than what the viewer can draw from the implications, or guess for his own need to fill the gaps in the narrative, we get a very underdeveloped back story which was probably necessary to enjoy at least part of this film and create a connection to the characters, whether or not it really had anything to do with Brian's survival adventure in the third part of the movie. These are the flaws in the narrative that through the viewer into a stupor as he struggles to find out what the heck those people there on the screen are doing and, for me, almost done to the point of screaming at the television to say something and tell me more! &lt;br /&gt;&lt;br /&gt;It certainly was not, for me, a good adventure tale. But, for fans of Jared Rushton, it was one of the last few movies he made. So, watch it purely for nostalgia, if nothing else.</td>\n",
       "      <td>never read gary paulsen novel hatchet cry wild adaptation can not make comparison book however say film adaptation adaptation underdeveloped adventure provide major explanation charactersthink cry wild less luxurious teenage mountaineer quincy california place film version cast away jar rushton yearold brian roebson kid head small plane visit father craft crash deserted mountain terrain leave kid strand quite defend himselfthere basically three part film obvious ten fifteen minute introduction character namely brian mom next third movie really consume nearly film brian roughing scene contain particularly amazing action nothing spectacular lot beautiful cinematography beautiful yukon landscape nothing put edge real encounter except brisk confrontation cub major dilemma initiate sort enjoyment connection character screen might even feel briefly bored passage time witness brian deal situation first primitive mean improve one use tool etc survival like ordinary time pass actually stick situation pretty much word put meat paulsen word translate visual mediaand course third part movie rescuethere subplot continuously seeks make known time however conflict brian parent create rocky awkward relationship however part explain brief intermittent minimal dialog flashback look like back story music video minute singer jefferson starship chime start singe sara viewer draw implication guess need fill gap narrative get underdeveloped back story probably necessary enjoy least part film create connection character whether really anything brians survival adventure third part movie flaw narrative viewer stupor struggle find heck people screen almost do point scream television say something tell certainly good adventure tale fan jar rushton one last movie make watch purely nostalgia nothing else</td>\n",
       "    </tr>\n",
       "    <tr>\n",
       "      <th>49593</th>\n",
       "      <td>The subject this latest adman-turned-movieman tries to tackle in his debut (ad)venture is quite an age-old topic of discussion by almost any cultural standard -- timeless romance (pun intended).&lt;br /&gt;&lt;br /&gt;However, the exploration (and exploitation for Desi auds) falls woefully short as the usual inclinations to 'pepper, spice and sugar' up the usual masala mix of b/g score, dialog, dance, drama, etc creates a nice-looking package with not much inside.&lt;br /&gt;&lt;br /&gt;In the first 40 minutes of the movie, the kitchen scene has been repeated at least 8-9 times. Further repeats follow thru-out the movie (after all the lead character's a cook). But therein lies les problemos -- no story! Hah, no wonder. Someone forgot to write a script.&lt;br /&gt;&lt;br /&gt;Amitabh puts in a Cheeni Jyada (more) amount of over-acting. Really when is this guy ever gonna stop?? How many 60-somethings prance around like that even when teased by a nubile 30-something??? Timeless mind yes, but surely what about the not-so-ageless bod? And sole? Sorry, soul?! Reasonably good acting by Paresh Rawal who has the only sensible role in the film. The director lacks any sense of realism getting all caught up in his new-fangled discovery of a hot new idea. Nowhere are we presented with any real-life problems or issues such a pair might face, other than actually getting married which is only the initial obstacle. The sub-plot of a little kid with cancer (the bachelor boy's first love) goes nowhere and whatever little bit of poignancy this otherwise insipid presentation would have evoked is quickly killed off along with the girl's character.&lt;br /&gt;&lt;br /&gt;Anyway, nice try but not quite there yet.</td>\n",
       "      <td>subject late admanturnedmovieman try tackle debut adventure quite ageold topic discussion almost cultural standard timeless romance pun intendedhowever exploration exploitation desi aud fall woefully short usual inclination pepper spice sugar usual masala mix bg score dialog dance drama etc create nicelooke package much insidein first minute movie kitchen scene repeat least time repeat follow thruout movie lead character cook therein lie les problemos story hah wonder someone forget write scriptamitabh put cheeni jyada amount overact really guy ever go to stop many something prance around like even tease nubile something timeless mind yes surely notsoageless bod sole sorry soul reasonably good act paresh rawal sensible role film director lack sense realism getting catch newfangle discovery hot new idea nowhere present reallife problem issue pair might face actually get married initial obstacle subplot little kid cancer bachelor boy first love go nowhere whatever little bit poignancy otherwise insipid presentation would evoke quickly kill along girl characteranyway nice try quite yet</td>\n",
       "    </tr>\n",
       "    <tr>\n",
       "      <th>31459</th>\n",
       "      <td>If your looking for a movie with fantastic music, nice cast and a storyline that is not to difficult to understand; FAME is for you.&lt;br /&gt;&lt;br /&gt;I have several scenes that i love in this movie; some make you laugh, others make you contemplative. The editing i think is wonderful, really fast and often funny. Shure, maybe there would have been some more potential in the whole thing, all the story's stay somehow on the surface; maybe a bit too many characters are involved.But I don't care, because the real stars are...&lt;br /&gt;&lt;br /&gt;...the musical scenes! One of my favorites: the hot-lunch-jam sequence. That piece is just so raw, funky and filmed in a special way (handcamera-style in \"music-hell-breaking-loose\"), its just electrifying! I miss this raw energy in todays music-clips; the only similar energy I found perhaps in Bette Midlers \"the rose\", all of the concert footage.Its about capturing something \"wild\" that is \"realy\" happening, and not doing it just perfect; take by take.&lt;br /&gt;&lt;br /&gt;So, FAME is a wonderful nostalgia-trip to when synthesizers where heavy and walk-mans not available.I recommend it once a year; sure not for everyone.</td>\n",
       "      <td>look movie fantastic music nice cast storyline difficult understand fame youi several scene love movie make laugh other make contemplative editing think wonderful really fast often funny shure maybe would potential whole thing story stay somehow surface maybe bite many character involvedbut do not care real star arethe musical scene one favorite hotlunchjam sequence piece raw funky film special way handcamerastyle musichellbreakingloose electrify miss raw energy today musicclip similar energy find perhaps bette midler rise concert footageit capture something wild realy happen perfect take takeso fame wonderful nostalgiatrip synthesizer heavy walkmans availablei recommend year sure everyone</td>\n",
       "    </tr>\n",
       "    <tr>\n",
       "      <th>13247</th>\n",
       "      <td>It's sometimes difficult to watch such self-avowed \"message films\" from an earlier, seemingly-simpler era without a certain degree of cynicism. The issue of racism and religious tolerance is one that has been drummed into us from an early age, and, as we've grown, teachers and authority figures have sought out less blatant yet equally-effective means of getting the message across. 'The House I Live In (1945)' is about as unsubtle as \"message films\" come, and Frank Sinatra seems to be treating his audience like a child  indeed, perhaps this was the point, as the short was no doubt intended primarily to influence younger film-goers. Even so, I found myself curiously affected when Sinatra launched into that sincere patriotic speech about what it really means to be an American and I'm not even an American! Released just two months after the end of WWII, director Mervyn LeRoy greeted war-weary audiences with a message of tolerance, togetherness and, above all else, hope. The music ain't bad, either.&lt;br /&gt;&lt;br /&gt;Fresh-faced Frank Sinatra  already a star, but not yet the superstar he'd become  opens the film in a recording studio, booming out \"If You Are But a Dream\" with a full orchestral accompaniment. When, between songs, Frank goes outside for a smoko, he observes a large group of kids bullying a young Jewish boy, their taunts provoked purely by his differing religion. Ol' Blue Eyes quickly puts a stop to this childish behaviour, delicately branding the bullies \"Nazi werewolves\" and scolding their irrational prejudice. He then earnestly and good-naturely lectures the group on the plain silliness of racial and religious discrimination, assuring them that every American culture, however it differs from our own, is still American at heart unless, of course, you're one of those bloody \"Japs.\" There's a hint of hypocrisy in pleading for racial tolerance while presenting one nation as the collective enemy, though you could hardly blame Hollywood for being less than enthusiastic about the plight of the Japanese in 1945.&lt;br /&gt;&lt;br /&gt;Sinatra drives his point home with a wonderfully heartwarming rendition of \"The House I Live In,\" which was written in 1943 by Abel Meeropol. When the songwriter first heard the song on film, he was furious that the filmmakers had completely excluded three of his verses, which he considered crucial to the message. These omissions were most likely due to time restraints, but Meeropol understandably didn't take too kindly to them, and reportedly had to be ejected from the cinema. When it was first released, 'The House I Live In' was deemed such an important short film that it won a Golden Globe for \"Best Film for Promoting International Good Will\" and a Honorary Oscar for all involved. In 2007, it was judged to be \"culturally, historically or aesthetically significant\" and added to the Library of Congress' National Film Registry, which is how I came to hear of it. While its approach may seem a little hokey sixty years later, this film remains quite watchable thanks to a young fella named Frank Sinatra.</td>\n",
       "      <td>sometimes difficult watch selfavowe message film early seeminglysimpler era without certain degree cynicism issue racism religious tolerance one drum we early age we ve grow teacher authority figure seek less blatant yet equallyeffective mean get message across house live unsubtle message film come frank sinatra seem treat audience like child indeed perhaps point short doubt intend primarily influence young filmgoer even find curiously affected sinatra launch sincere patriotic speech really mean american I m even american release two month end wwii director mervyn leroy greet warweary audience message tolerance togetherness else hope music be not bad eitherfreshface frank sinatra already star yet superstar he d become open film recording studio booming dream full orchestral accompaniment song frank go outside smoko observe large group kid bully young jewish boy taunt provoke purely differ religion ol blue eye quickly put stop childish behaviour delicately brand bully nazi werewolf scold irrational prejudice earnestly goodnaturely lecture group plain silliness racial religious discrimination assure every american culture however differ still american heart unless course you re one bloody jap there s hint hypocrisy plead racial tolerance present one nation collective enemy though could hardly blame hollywood less enthusiastic plight japanese sinatra drive point home wonderfully heartwarming rendition house live write abel meeropol songwriter first hear song film furious filmmaker completely exclude three verse consider crucial message omission likely due time restraint meeropol understandably do not take kindly reportedly eject cinema first release house live deem important short film golden globe good film promote international good honorary oscar involve judge culturally historically aesthetically significant add library congress national film registry come hear approach may seem little hokey sixty year later film remain quite watchable thank young fella name frank sinatra</td>\n",
       "    </tr>\n",
       "    <tr>\n",
       "      <th>43407</th>\n",
       "      <td>A single mother(Diane Keaton) finds herself working several minimum-wage jobs. When she gets fired, she finds that she is unable to support her sons(Michael Seater and Colin Roberts), the latter of whom has asthma. Then she goes to her friend and starts selling drugs. Soon enough, she gets addicted to the drugs that she is selling. Her life comes crashing down, especially when her kids, namely her oldest son, find out the truth and threaten to leave her. Then, she struggles to redeem herself with the help of her kids but can she protect her family from the drug lords who she worked for? &lt;br /&gt;&lt;br /&gt;Wow! This lifetime movie has some of the best acting I have ever seen! Diane Keaton overacts a lot, and her character comes off as crazy but she was extremely convincing. She is much better suited to drama than to comedy. However, the best performance in the movie comes from Michael Seater, who plays her oldest son. He is perfect as the responsible son who is still young but trying to be the adult in the family. His acting was especially great in the scenes where he confronts his mom about the drugs. Colin Roberts, who plays the younger son, also does a great job.&lt;br /&gt;&lt;br /&gt;A movie well worth watching, especially because of the acting from Michael Seater and Diane Keaton!</td>\n",
       "      <td>single motherdiane keaton find work several minimumwage job get fire find unable support sonsmichael seater colin roberts latter asthma go friend start sell drug soon enough get addict drug sell life comes crash especially kid namely old son find truth threaten leave struggle redeem help kid protect family drug lord work wow lifetime movie well act ever see diane keaton overact lot character come crazy extremely convincing much well suited drama comedy however good performance movie come michael seater play old son perfect responsible son still young try adult family act especially great scene confront mom drug colin roberts play young son also great joba movie well worth watch especially act michael seater diane keaton</td>\n",
       "    </tr>\n",
       "  </tbody>\n",
       "</table>\n",
       "</div>"
      ],
      "text/plain": [
       "                                                                                                                                                                                                                                                                                                                                                                                                                                                                                                                                                                                                                                                                                                                                                                                                                                                                                                                                                                                                                                                                                                                                                                                                                                                                                                                                                                                                                                                                                                                                                                                                                                                                                                                                                                                                                                                                                                                                                                                                                                                                                                                                                                                                                                                                                                                                                                                                                                                                                                                                                                                                                                                                                                                                                                                                                                                                                                                                                                                                                                                                                                                                                                                                                               review  \\\n",
       "47120  I had never read Gary Paulsen's novel, Hatchet, for which 'A Cry in the Wild' is the adaptation of, so I can't make any comparisons to the book. I will, however, say that as a film on its own, adaptation or no adaptation, it was an underdeveloped adventure that provides no major explanation of its few characters.<br /><br />Think of 'A Cry in the Wild' as a less luxurious, teenage mountaineer (was Quincy, California the only place this was filmed?) version of 'Cast Away.' Jared Rushton is 13-year-old Brian Roebson, a kid headed on a small plane to visit his father, until the craft crashes over some deserted mountain terrain, leaving the kid stranded for quite a while and having to defend himself.<br /><br />There are basically three parts to the film. The obvious being the ten or fifteen minute introduction of the characters, namely Brian and his mom. <br /><br />The next third of the movie (which really consumes nearly all of the film) is that of Brian \"roughing it.\" These scenes contain no particularly amazing action, nothing spectacular other than lots of beautiful cinematography of a beautiful Yukon landscape. Nothing to put you on edge, no real encounters (except a brisk confrontation with a cub), and no major dilemmas to initiate some sort of enjoyment or connection with the character on the screen. You might even feel briefly bored with the passage of time as we witness Brian dealing with his situation through first, primitive means, and then more improved ones (using tools, etc) for his survival. It is more like the ordinary time that passes if you were actually stuck in the situation, and that is pretty much about it. In other words, they put no meat on the Paulsen's words when they translated them into a visual media.<br /><br />And, of course, the third part of the movie is his rescue.<br /><br />There is a subplot that continuously seeks to make itself known during this time, however. Some conflict between Brian and his parents that created a rocky, awkward relationship between them. However, for the most part, it is only explained in brief, intermittent, minimal dialog flashbacks that look more like a back story for a music video. Any minute, the singer from Jefferson Starship, should chime in an start singing 'Sara.' Other than what the viewer can draw from the implications, or guess for his own need to fill the gaps in the narrative, we get a very underdeveloped back story which was probably necessary to enjoy at least part of this film and create a connection to the characters, whether or not it really had anything to do with Brian's survival adventure in the third part of the movie. These are the flaws in the narrative that through the viewer into a stupor as he struggles to find out what the heck those people there on the screen are doing and, for me, almost done to the point of screaming at the television to say something and tell me more! <br /><br />It certainly was not, for me, a good adventure tale. But, for fans of Jared Rushton, it was one of the last few movies he made. So, watch it purely for nostalgia, if nothing else.   \n",
       "49593                                                                                                                                                                                                                                                                                                                                                                                                                                                                                                                                                                                                                                                                                                                                                                                                                                                                                                                                                                                                                                                                                                                                                                                                                                                                                                                                                                                                                                                                                          The subject this latest adman-turned-movieman tries to tackle in his debut (ad)venture is quite an age-old topic of discussion by almost any cultural standard -- timeless romance (pun intended).<br /><br />However, the exploration (and exploitation for Desi auds) falls woefully short as the usual inclinations to 'pepper, spice and sugar' up the usual masala mix of b/g score, dialog, dance, drama, etc creates a nice-looking package with not much inside.<br /><br />In the first 40 minutes of the movie, the kitchen scene has been repeated at least 8-9 times. Further repeats follow thru-out the movie (after all the lead character's a cook). But therein lies les problemos -- no story! Hah, no wonder. Someone forgot to write a script.<br /><br />Amitabh puts in a Cheeni Jyada (more) amount of over-acting. Really when is this guy ever gonna stop?? How many 60-somethings prance around like that even when teased by a nubile 30-something??? Timeless mind yes, but surely what about the not-so-ageless bod? And sole? Sorry, soul?! Reasonably good acting by Paresh Rawal who has the only sensible role in the film. The director lacks any sense of realism getting all caught up in his new-fangled discovery of a hot new idea. Nowhere are we presented with any real-life problems or issues such a pair might face, other than actually getting married which is only the initial obstacle. The sub-plot of a little kid with cancer (the bachelor boy's first love) goes nowhere and whatever little bit of poignancy this otherwise insipid presentation would have evoked is quickly killed off along with the girl's character.<br /><br />Anyway, nice try but not quite there yet.   \n",
       "31459                                                                                                                                                                                                                                                                                                                                                                                                                                                                                                                                                                                                                                                                                                                                                                                                                                                                                                                                                                                                                                                                                                                                                                                                                                                                                                                                                                                                                                                                                                                                                                                                                                                                                                                                                                                                                                                                                                                                                                                                                                 If your looking for a movie with fantastic music, nice cast and a storyline that is not to difficult to understand; FAME is for you.<br /><br />I have several scenes that i love in this movie; some make you laugh, others make you contemplative. The editing i think is wonderful, really fast and often funny. Shure, maybe there would have been some more potential in the whole thing, all the story's stay somehow on the surface; maybe a bit too many characters are involved.But I don't care, because the real stars are...<br /><br />...the musical scenes! One of my favorites: the hot-lunch-jam sequence. That piece is just so raw, funky and filmed in a special way (handcamera-style in \"music-hell-breaking-loose\"), its just electrifying! I miss this raw energy in todays music-clips; the only similar energy I found perhaps in Bette Midlers \"the rose\", all of the concert footage.Its about capturing something \"wild\" that is \"realy\" happening, and not doing it just perfect; take by take.<br /><br />So, FAME is a wonderful nostalgia-trip to when synthesizers where heavy and walk-mans not available.I recommend it once a year; sure not for everyone.   \n",
       "13247                            It's sometimes difficult to watch such self-avowed \"message films\" from an earlier, seemingly-simpler era without a certain degree of cynicism. The issue of racism and religious tolerance is one that has been drummed into us from an early age, and, as we've grown, teachers and authority figures have sought out less blatant yet equally-effective means of getting the message across. 'The House I Live In (1945)' is about as unsubtle as \"message films\" come, and Frank Sinatra seems to be treating his audience like a child  indeed, perhaps this was the point, as the short was no doubt intended primarily to influence younger film-goers. Even so, I found myself curiously affected when Sinatra launched into that sincere patriotic speech about what it really means to be an American\n",
       " and I'm not even an American! Released just two months after the end of WWII, director Mervyn LeRoy greeted war-weary audiences with a message of tolerance, togetherness and, above all else, hope. The music ain't bad, either.<br /><br />Fresh-faced Frank Sinatra  already a star, but not yet the superstar he'd become  opens the film in a recording studio, booming out \"If You Are But a Dream\" with a full orchestral accompaniment. When, between songs, Frank goes outside for a smoko, he observes a large group of kids bullying a young Jewish boy, their taunts provoked purely by his differing religion. Ol' Blue Eyes quickly puts a stop to this childish behaviour, delicately branding the bullies \"Nazi werewolves\" and scolding their irrational prejudice. He then earnestly and good-naturely lectures the group on the plain silliness of racial and religious discrimination, assuring them that every American culture, however it differs from our own, is still American at heart\n",
       " unless, of course, you're one of those bloody \"Japs.\" There's a hint of hypocrisy in pleading for racial tolerance while presenting one nation as the collective enemy, though you could hardly blame Hollywood for being less than enthusiastic about the plight of the Japanese in 1945.<br /><br />Sinatra drives his point home with a wonderfully heartwarming rendition of \"The House I Live In,\" which was written in 1943 by Abel Meeropol. When the songwriter first heard the song on film, he was furious that the filmmakers had completely excluded three of his verses, which he considered crucial to the message. These omissions were most likely due to time restraints, but Meeropol understandably didn't take too kindly to them, and reportedly had to be ejected from the cinema. When it was first released, 'The House I Live In' was deemed such an important short film that it won a Golden Globe for \"Best Film for Promoting International Good Will\" and a Honorary Oscar for all involved. In 2007, it was judged to be \"culturally, historically or aesthetically significant\" and added to the Library of Congress' National Film Registry, which is how I came to hear of it. While its approach may seem a little hokey sixty years later, this film remains quite watchable thanks to a young fella named Frank Sinatra.   \n",
       "43407                                                                                                                                                                                                                                                                                                                                                                                                                                                                                                                                                                                                                                                                                                                                                                                                                                                                                                                                                                                                                                                                                                                                                                                                                                                                                                                                                                                                                                                                                                                                                                                                                                                                                                                                                                                                                                                                                         A single mother(Diane Keaton) finds herself working several minimum-wage jobs. When she gets fired, she finds that she is unable to support her sons(Michael Seater and Colin Roberts), the latter of whom has asthma. Then she goes to her friend and starts selling drugs. Soon enough, she gets addicted to the drugs that she is selling. Her life comes crashing down, especially when her kids, namely her oldest son, find out the truth and threaten to leave her. Then, she struggles to redeem herself with the help of her kids but can she protect her family from the drug lords who she worked for? <br /><br />Wow! This lifetime movie has some of the best acting I have ever seen! Diane Keaton overacts a lot, and her character comes off as crazy but she was extremely convincing. She is much better suited to drama than to comedy. However, the best performance in the movie comes from Michael Seater, who plays her oldest son. He is perfect as the responsible son who is still young but trying to be the adult in the family. His acting was especially great in the scenes where he confronts his mom about the drugs. Colin Roberts, who plays the younger son, also does a great job.<br /><br />A movie well worth watching, especially because of the acting from Michael Seater and Diane Keaton!   \n",
       "\n",
       "                                                                                                                                                                                                                                                                                                                                                                                                                                                                                                                                                                                                                                                                                                                                                                                                                                                                                                                                                                                                                                                                                                                                                                                                                                                                                                                                                                                                                                                                                                                                                                                                                                                                                                                                                                                                                                                                                                                                                                                                                                                                                cleaned_review  \n",
       "47120                                                                                                                                                                                                            never read gary paulsen novel hatchet cry wild adaptation can not make comparison book however say film adaptation adaptation underdeveloped adventure provide major explanation charactersthink cry wild less luxurious teenage mountaineer quincy california place film version cast away jar rushton yearold brian roebson kid head small plane visit father craft crash deserted mountain terrain leave kid strand quite defend himselfthere basically three part film obvious ten fifteen minute introduction character namely brian mom next third movie really consume nearly film brian roughing scene contain particularly amazing action nothing spectacular lot beautiful cinematography beautiful yukon landscape nothing put edge real encounter except brisk confrontation cub major dilemma initiate sort enjoyment connection character screen might even feel briefly bored passage time witness brian deal situation first primitive mean improve one use tool etc survival like ordinary time pass actually stick situation pretty much word put meat paulsen word translate visual mediaand course third part movie rescuethere subplot continuously seeks make known time however conflict brian parent create rocky awkward relationship however part explain brief intermittent minimal dialog flashback look like back story music video minute singer jefferson starship chime start singe sara viewer draw implication guess need fill gap narrative get underdeveloped back story probably necessary enjoy least part film create connection character whether really anything brians survival adventure third part movie flaw narrative viewer stupor struggle find heck people screen almost do point scream television say something tell certainly good adventure tale fan jar rushton one last movie make watch purely nostalgia nothing else  \n",
       "49593                                                                                                                                                                                                                                                                                                                                                                                                                                                                                                                                                                                                                                                                                                                                                                                                                                                                                                                                              subject late admanturnedmovieman try tackle debut adventure quite ageold topic discussion almost cultural standard timeless romance pun intendedhowever exploration exploitation desi aud fall woefully short usual inclination pepper spice sugar usual masala mix bg score dialog dance drama etc create nicelooke package much insidein first minute movie kitchen scene repeat least time repeat follow thruout movie lead character cook therein lie les problemos story hah wonder someone forget write scriptamitabh put cheeni jyada amount overact really guy ever go to stop many something prance around like even tease nubile something timeless mind yes surely notsoageless bod sole sorry soul reasonably good act paresh rawal sensible role film director lack sense realism getting catch newfangle discovery hot new idea nowhere present reallife problem issue pair might face actually get married initial obstacle subplot little kid cancer bachelor boy first love go nowhere whatever little bit poignancy otherwise insipid presentation would evoke quickly kill along girl characteranyway nice try quite yet  \n",
       "31459                                                                                                                                                                                                                                                                                                                                                                                                                                                                                                                                                                                                                                                                                                                                                                                                                                                                                                                                                                                                                                                                                                                                                                                                                                                                                                                                                               look movie fantastic music nice cast storyline difficult understand fame youi several scene love movie make laugh other make contemplative editing think wonderful really fast often funny shure maybe would potential whole thing story stay somehow surface maybe bite many character involvedbut do not care real star arethe musical scene one favorite hotlunchjam sequence piece raw funky film special way handcamerastyle musichellbreakingloose electrify miss raw energy today musicclip similar energy find perhaps bette midler rise concert footageit capture something wild realy happen perfect take takeso fame wonderful nostalgiatrip synthesizer heavy walkmans availablei recommend year sure everyone  \n",
       "13247  sometimes difficult watch selfavowe message film early seeminglysimpler era without certain degree cynicism issue racism religious tolerance one drum we early age we ve grow teacher authority figure seek less blatant yet equallyeffective mean get message across house live unsubtle message film come frank sinatra seem treat audience like child indeed perhaps point short doubt intend primarily influence young filmgoer even find curiously affected sinatra launch sincere patriotic speech really mean american I m even american release two month end wwii director mervyn leroy greet warweary audience message tolerance togetherness else hope music be not bad eitherfreshface frank sinatra already star yet superstar he d become open film recording studio booming dream full orchestral accompaniment song frank go outside smoko observe large group kid bully young jewish boy taunt provoke purely differ religion ol blue eye quickly put stop childish behaviour delicately brand bully nazi werewolf scold irrational prejudice earnestly goodnaturely lecture group plain silliness racial religious discrimination assure every american culture however differ still american heart unless course you re one bloody jap there s hint hypocrisy plead racial tolerance present one nation collective enemy though could hardly blame hollywood less enthusiastic plight japanese sinatra drive point home wonderfully heartwarming rendition house live write abel meeropol songwriter first hear song film furious filmmaker completely exclude three verse consider crucial message omission likely due time restraint meeropol understandably do not take kindly reportedly eject cinema first release house live deem important short film golden globe good film promote international good honorary oscar involve judge culturally historically aesthetically significant add library congress national film registry come hear approach may seem little hokey sixty year later film remain quite watchable thank young fella name frank sinatra  \n",
       "43407                                                                                                                                                                                                                                                                                                                                                                                                                                                                                                                                                                                                                                                                                                                                                                                                                                                                                                                                                                                                                                                                                                                                                                                                                                                                                                                                single motherdiane keaton find work several minimumwage job get fire find unable support sonsmichael seater colin roberts latter asthma go friend start sell drug soon enough get addict drug sell life comes crash especially kid namely old son find truth threaten leave struggle redeem help kid protect family drug lord work wow lifetime movie well act ever see diane keaton overact lot character come crazy extremely convincing much well suited drama comedy however good performance movie come michael seater play old son perfect responsible son still young try adult family act especially great scene confront mom drug colin roberts play young son also great joba movie well worth watch especially act michael seater diane keaton  "
      ]
     },
     "metadata": {},
     "output_type": "display_data"
    }
   ],
   "source": [
    "print(\"preprocessing all 50,000 reviews...(This may take a while)\")\n",
    "df = df.sample(500).copy() #use .copy() to avoid warning\n",
    "\n",
    "df['cleaned_review'] = df['review'].apply(preprocess_text)\n",
    "print(\"preprocessing complete\")\n",
    "# display a comparison of original vs cleaned reviews\n",
    "print(\"\\ncomparing original vs cleaned reviews:\")\n",
    "display(df[['review','cleaned_review']].head())\n",
    "\n",
    "\n",
    "\n",
    "   "
   ]
  },
  {
   "cell_type": "code",
   "execution_count": 45,
   "id": "991e7030",
   "metadata": {},
   "outputs": [
    {
     "name": "stdout",
     "output_type": "stream",
     "text": [
      "Unique sentiment values: ['negative' 'positive']\n",
      "Training set size: 400\n",
      "Testing set size: 100\n"
     ]
    }
   ],
   "source": [
    "from sklearn.model_selection import train_test_split\n",
    "\n",
    "# Print unique sentiment values to debug unexpected labels\n",
    "print('Unique sentiment values:', df['sentiment'].unique())\n",
    "\n",
    "# Map sentiment labels to 0 and 1\n",
    "df['sentiment_numeric'] = df['sentiment'].map({'positive': 1, 'negative': 0})\n",
    "\n",
    "# Drop rows with NaN in 'sentiment_numeric'\n",
    "df = df.dropna(subset=['sentiment_numeric'])\n",
    "\n",
    "# Define our features (X) and target (y)\n",
    "X = df['cleaned_review']\n",
    "y = df['sentiment_numeric']\n",
    "\n",
    "# Split the data into training and testing sets (80% train, 20% test)\n",
    "# stratify=y ensures the train/test split has the same proportion of sentiments as the original dataset\n",
    "X_train, X_test, y_train, y_test = train_test_split(X, y, test_size=0.2, random_state=42)\n",
    "\n",
    "print(f\"Training set size: {len(X_train)}\")\n",
    "print(f\"Testing set size: {len(X_test)}\")"
   ]
  },
  {
   "cell_type": "code",
   "execution_count": 46,
   "id": "8b8b7e61",
   "metadata": {},
   "outputs": [
    {
     "name": "stdout",
     "output_type": "stream",
     "text": [
      "Unique sentiment values: ['negative' 'positive']\n",
      "Training set size: 400\n",
      "Testing set size: 100\n"
     ]
    }
   ],
   "source": [
    "from sklearn.model_selection import train_test_split\n",
    "\n",
    "# Print unique sentiment values to debug unexpected labels\n",
    "print('Unique sentiment values:', df['sentiment'].unique())\n",
    "\n",
    "# Map sentiment labels to 0 and 1\n",
    "df['sentiment_numeric'] = df['sentiment'].map({'positive': 1, 'negative': 0})\n",
    "\n",
    "# Drop rows with NaN in 'sentiment_numeric'\n",
    "df = df.dropna(subset=['sentiment_numeric'])\n",
    "\n",
    "# Define our features (X) and target (y)\n",
    "X = df['cleaned_review']\n",
    "y = df['sentiment_numeric']\n",
    "\n",
    "# Split the data into training and testing sets (80% train, 20% test)\n",
    "# stratify=y ensures the train/test split has the same proportion of sentiments as the original dataset\n",
    "X_train, X_test, y_train, y_test = train_test_split(X, y, test_size=0.2, random_state=42)\n",
    "\n",
    "print(f\"Training set size: {len(X_train)}\")\n",
    "print(f\"Testing set size: {len(X_test)}\")"
   ]
  },
  {
   "cell_type": "code",
   "execution_count": 47,
   "id": "fef538d0",
   "metadata": {},
   "outputs": [
    {
     "name": "stdout",
     "output_type": "stream",
     "text": [
      "Unique sentiment values: ['negative' 'positive']\n",
      "Training set size: 400\n",
      "Testing set size: 100\n"
     ]
    }
   ],
   "source": [
    "from sklearn.model_selection import train_test_split\n",
    "\n",
    "# Print unique sentiment values to debug unexpected labels\n",
    "print('Unique sentiment values:', df['sentiment'].unique())\n",
    "\n",
    "# Map sentiment labels to 0 and 1\n",
    "df['sentiment_numeric'] = df['sentiment'].map({'positive': 1, 'negative': 0})\n",
    "\n",
    "# Drop rows with NaN in 'sentiment_numeric'\n",
    "df = df.dropna(subset=['sentiment_numeric'])\n",
    "\n",
    "# Define our features (X) and target (y)\n",
    "X = df['cleaned_review']\n",
    "y = df['sentiment_numeric']\n",
    "\n",
    "# Split the data into training and testing sets (80% train, 20% test)\n",
    "# stratify=y ensures the train/test split has the same proportion of sentiments as the original dataset\n",
    "X_train, X_test, y_train, y_test = train_test_split(X, y, test_size=0.2, random_state=42)\n",
    "\n",
    "print(f\"Training set size: {len(X_train)}\")\n",
    "print(f\"Testing set size: {len(X_test)}\")"
   ]
  },
  {
   "cell_type": "code",
   "execution_count": 48,
   "id": "3150f072",
   "metadata": {},
   "outputs": [
    {
     "name": "stdout",
     "output_type": "stream",
     "text": [
      "Unique sentiment values: ['negative' 'positive']\n",
      "Training set size: 400\n",
      "Testing set size: 100\n"
     ]
    }
   ],
   "source": [
    "from sklearn.model_selection import train_test_split\n",
    "\n",
    "# Print unique sentiment values to debug unexpected labels\n",
    "print('Unique sentiment values:', df['sentiment'].unique())\n",
    "\n",
    "# Map sentiment labels to 0 and 1\n",
    "df['sentiment_numeric'] = df['sentiment'].map({'positive': 1, 'negative': 0})\n",
    "\n",
    "# Drop rows with NaN in 'sentiment_numeric'\n",
    "df = df.dropna(subset=['sentiment_numeric'])\n",
    "\n",
    "# Define our features (X) and target (y)\n",
    "X = df['cleaned_review']\n",
    "y = df['sentiment_numeric']\n",
    "\n",
    "# Split the data into training and testing sets (80% train, 20% test)\n",
    "# stratify=y ensures the train/test split has the same proportion of sentiments as the original dataset\n",
    "X_train, X_test, y_train, y_test = train_test_split(X, y, test_size=0.2, random_state=42)\n",
    "\n",
    "print(f\"Training set size: {len(X_train)}\")\n",
    "print(f\"Testing set size: {len(X_test)}\")"
   ]
  },
  {
   "cell_type": "code",
   "execution_count": 49,
   "id": "480fd064",
   "metadata": {},
   "outputs": [
    {
     "name": "stdout",
     "output_type": "stream",
     "text": [
      "Unique sentiment values: ['negative' 'positive']\n",
      "Training set size: 400\n",
      "Testing set size: 100\n"
     ]
    }
   ],
   "source": [
    "from sklearn.model_selection import train_test_split\n",
    "\n",
    "# Print unique sentiment values to debug unexpected labels\n",
    "print('Unique sentiment values:', df['sentiment'].unique())\n",
    "\n",
    "# Map sentiment labels to 0 and 1\n",
    "df['sentiment_numeric'] = df['sentiment'].map({'positive': 1, 'negative': 0})\n",
    "\n",
    "# Drop rows with NaN in 'sentiment_numeric'\n",
    "df = df.dropna(subset=['sentiment_numeric'])\n",
    "\n",
    "# Define our features (X) and target (y)\n",
    "X = df['cleaned_review']\n",
    "y = df['sentiment_numeric']\n",
    "\n",
    "# Split the data into training and testing sets (80% train, 20% test)\n",
    "# stratify=y ensures the train/test split has the same proportion of sentiments as the original dataset\n",
    "X_train, X_test, y_train, y_test = train_test_split(X, y, test_size=0.2, random_state=42)\n",
    "\n",
    "print(f\"Training set size: {len(X_train)}\")\n",
    "print(f\"Testing set size: {len(X_test)}\")"
   ]
  },
  {
   "cell_type": "code",
   "execution_count": 50,
   "id": "03633908",
   "metadata": {},
   "outputs": [
    {
     "name": "stdout",
     "output_type": "stream",
     "text": [
      "Unique sentiment values: ['negative' 'positive']\n",
      "Training set size: 400\n",
      "Testing set size: 100\n"
     ]
    }
   ],
   "source": [
    "from sklearn.model_selection import train_test_split\n",
    "\n",
    "# Print unique sentiment values to debug unexpected labels\n",
    "print('Unique sentiment values:', df['sentiment'].unique())\n",
    "\n",
    "# Map sentiment labels to 0 and 1\n",
    "df['sentiment_numeric'] = df['sentiment'].map({'positive': 1, 'negative': 0})\n",
    "\n",
    "# Drop rows with NaN in 'sentiment_numeric'\n",
    "df = df.dropna(subset=['sentiment_numeric'])\n",
    "\n",
    "# Define our features (X) and target (y)\n",
    "X = df['cleaned_review']\n",
    "y = df['sentiment_numeric']\n",
    "\n",
    "# Split the data into training and testing sets (80% train, 20% test)\n",
    "# stratify=y ensures the train/test split has the same proportion of sentiments as the original dataset\n",
    "X_train, X_test, y_train, y_test = train_test_split(X, y, test_size=0.2, random_state=42)\n",
    "\n",
    "print(f\"Training set size: {len(X_train)}\")\n",
    "print(f\"Testing set size: {len(X_test)}\")"
   ]
  },
  {
   "cell_type": "code",
   "execution_count": 52,
   "id": "f7795a63",
   "metadata": {},
   "outputs": [
    {
     "name": "stdout",
     "output_type": "stream",
     "text": [
      "Unique sentiment values: ['negative' 'positive']\n",
      "Training set size: 400\n",
      "Testing set size: 100\n"
     ]
    }
   ],
   "source": [
    "from sklearn.model_selection import train_test_split\n",
    "\n",
    "# Print unique sentiment values to debug unexpected labels\n",
    "print('Unique sentiment values:', df['sentiment'].unique())\n",
    "\n",
    "# Map sentiment labels to 0 and 1\n",
    "df['sentiment_numeric'] = df['sentiment'].map({'positive': 1, 'negative': 0})\n",
    "\n",
    "# Drop rows with NaN in 'sentiment_numeric'\n",
    "df = df.dropna(subset=['sentiment_numeric'])\n",
    "\n",
    "# Define our features (X) and target (y)\n",
    "X = df['cleaned_review']\n",
    "y = df['sentiment_numeric']\n",
    "\n",
    "# Split the data into training and testing sets (80% train, 20% test)\n",
    "# stratify=y ensures the train/test split has the same proportion of sentiments as the original dataset\n",
    "X_train, X_test, y_train, y_test = train_test_split(X, y, test_size=0.2, random_state=42)\n",
    "\n",
    "print(f\"Training set size: {len(X_train)}\")\n",
    "print(f\"Testing set size: {len(X_test)}\")"
   ]
  },
  {
   "cell_type": "code",
   "execution_count": 53,
   "id": "43969f80",
   "metadata": {},
   "outputs": [
    {
     "name": "stdout",
     "output_type": "stream",
     "text": [
      "Shape of the training TF-IDF matrix: (400, 5000)\n",
      "Shape of the testing TF-IDF matrix: (100, 5000)\n"
     ]
    }
   ],
   "source": [
    "from sklearn.feature_extraction.text import TfidfVectorizer\n",
    "\n",
    "# Initialize the TF-IDF Vectorizer\n",
    "# max_features=5000 means we only use the 5000 most common words, which is efficient\n",
    "tfidf = TfidfVectorizer(max_features=5000)\n",
    "\n",
    "# Fit the vectorizer on the training data and transform it\n",
    "X_train_tfidf = tfidf.fit_transform(X_train)\n",
    "\n",
    "# ONLY transform the test data using the already-fitted vectorizer\n",
    "X_test_tfidf = tfidf.transform(X_test)\n",
    "\n",
    "print(f\"Shape of the training TF-IDF matrix: {X_train_tfidf.shape}\")\n",
    "print(f\"Shape of the testing TF-IDF matrix: {X_test_tfidf.shape}\")"
   ]
  },
  {
   "cell_type": "code",
   "execution_count": 54,
   "id": "e79038c7",
   "metadata": {},
   "outputs": [
    {
     "name": "stdout",
     "output_type": "stream",
     "text": [
      "Model training complete!\n"
     ]
    }
   ],
   "source": [
    "from sklearn.linear_model import LogisticRegression\n",
    "\n",
    "# Initialize and train the model\n",
    "# solver='liblinear' is a good choice for this type of problem\n",
    "model = LogisticRegression(solver='liblinear')\n",
    "model.fit(X_train_tfidf, y_train)\n",
    "\n",
    "print(\"Model training complete!\")"
   ]
  },
  {
   "cell_type": "code",
   "execution_count": 56,
   "id": "f5175c1e",
   "metadata": {},
   "outputs": [
    {
     "name": "stdout",
     "output_type": "stream",
     "text": [
      "Review: 'This movie was absolutely fantastic! The acting was superb and the plot was gripping.'\n",
      "Predicted Sentiment: Positive\n",
      "\n",
      "Review: 'I was so bored throughout the entire film. It was a complete waste of time and money.'\n",
      "Predicted Sentiment: Negative\n",
      "\n",
      "Review: 'The film was okay, not great but not terrible either. Some parts were good.'\n",
      "Predicted Sentiment: Positive\n",
      "\n"
     ]
    }
   ],
   "source": [
    "def predict_sentiment(text):\n",
    "    \"\"\"\n",
    "    Takes a raw text string and predicts its sentiment using the trained model.\n",
    "    \"\"\"\n",
    "    # 1. Preprocess the text using the same function from Cell 2\n",
    "    cleaned_text = preprocess_text(text)\n",
    "    \n",
    "    # 2. Vectorize the text using the SAME fitted TF-IDF vectorizer from Cell 5\n",
    "    vectorized_text = tfidf.transform([cleaned_text])\n",
    "    \n",
    "    # 3. Predict using the trained model from Cell 6\n",
    "    prediction = model.predict(vectorized_text)\n",
    "    \n",
    "    # 4. Return the human-readable result\n",
    "    return 'Positive' if prediction[0] == 1 else 'Negative'\n",
    "\n",
    "# --- Test Cases ---\n",
    "review_1 = \"This movie was absolutely fantastic! The acting was superb and the plot was gripping.\"\n",
    "review_2 = \"I was so bored throughout the entire film. It was a complete waste of time and money.\"\n",
    "review_3 = \"The film was okay, not great but not terrible either. Some parts were good.\"\n",
    "\n",
    "print(f\"Review: '{review_1}'\\nPredicted Sentiment: {predict_sentiment(review_1)}\\n\")\n",
    "print(f\"Review: '{review_2}'\\nPredicted Sentiment: {predict_sentiment(review_2)}\\n\")\n",
    "print(f\"Review: '{review_3}'\\nPredicted Sentiment: {predict_sentiment(review_3)}\\n\")"
   ]
  },
  {
   "cell_type": "code",
   "execution_count": 57,
   "id": "f0f302c1",
   "metadata": {},
   "outputs": [
    {
     "name": "stderr",
     "output_type": "stream",
     "text": [
      "Matplotlib is building the font cache; this may take a moment.\n"
     ]
    },
    {
     "name": "stdout",
     "output_type": "stream",
     "text": [
      "Model Accuracy: 0.7600\n",
      "\n",
      "Classification Report:\n",
      "              precision    recall  f1-score   support\n",
      "\n",
      "    Negative       0.83      0.67      0.74        52\n",
      "    Positive       0.71      0.85      0.77        48\n",
      "\n",
      "    accuracy                           0.76       100\n",
      "   macro avg       0.77      0.76      0.76       100\n",
      "weighted avg       0.77      0.76      0.76       100\n",
      "\n"
     ]
    },
    {
     "data": {
      "image/png": "[encoded data removed]",
      "text/plain": [
       "<Figure size 600x500 with 2 Axes>"
      ]
     },
     "metadata": {},
     "output_type": "display_data"
    }
   ],
   "source": [
    "from sklearn.metrics import accuracy_score, classification_report, confusion_matrix\n",
    "import matplotlib.pyplot as plt\n",
    "import seaborn as sns\n",
    "\n",
    "# Make predictions on the test set\n",
    "y_pred = model.predict(X_test_tfidf)\n",
    "\n",
    "# Calculate accuracy\n",
    "accuracy = accuracy_score(y_test, y_pred)\n",
    "print(f\"Model Accuracy: {accuracy:.4f}\")\n",
    "\n",
    "# Print the detailed classification report\n",
    "print(\"\\nClassification Report:\")\n",
    "print(classification_report(y_test, y_pred, target_names=['Negative', 'Positive']))\n",
    "\n",
    "# Plot the confusion matrix\n",
    "cm = confusion_matrix(y_test, y_pred)\n",
    "plt.figure(figsize=(6, 5))\n",
    "sns.heatmap(cm, annot=True, fmt='d', cmap='Blues', \n",
    "            xticklabels=['Negative', 'Positive'], \n",
    "            yticklabels=['Negative', 'Positive'])\n",
    "plt.xlabel('Predicted Label')\n",
    "plt.ylabel('True Label')\n",
    "plt.title('Confusion Matrix')\n",
    "plt.show()"
   ]
  }
 ],
 "metadata": {
  "kernelspec": {
   "display_name": "venv",
   "language": "python",
   "name": "python3"
  },
  "language_info": {
   "codemirror_mode": {
    "name": "ipython",
    "version": 3
   },
   "file_extension": ".py",
   "mimetype": "text/x-python",
   "name": "python",
   "nbconvert_exporter": "python",
   "pygments_lexer": "ipython3",
   "version": "3.13.5"
  }
 },
 "nbformat": 4,
 "nbformat_minor": 5
}
